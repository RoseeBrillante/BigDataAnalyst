{
  "nbformat": 4,
  "nbformat_minor": 0,
  "metadata": {
    "colab": {
      "provenance": [],
      "authorship_tag": "ABX9TyPGAse9P5PjhXwJuF5xsaI+",
      "include_colab_link": true
    },
    "kernelspec": {
      "name": "python3",
      "display_name": "Python 3"
    },
    "language_info": {
      "name": "python"
    }
  },
  "cells": [
    {
      "cell_type": "markdown",
      "metadata": {
        "id": "view-in-github",
        "colab_type": "text"
      },
      "source": [
        "<a href=\"https://colab.research.google.com/github/RoseeBrillante/BigDataAnalyst/blob/main/A_to_Z_Census_Income.ipynb\" target=\"_parent\"><img src=\"https://colab.research.google.com/assets/colab-badge.svg\" alt=\"Open In Colab\"/></a>"
      ]
    },
    {
      "cell_type": "code",
      "execution_count": 31,
      "metadata": {
        "colab": {
          "base_uri": "https://localhost:8080/"
        },
        "id": "kyEAIEaso4YU",
        "outputId": "e5109a47-2bc3-4e91-88a8-b56226772348"
      },
      "outputs": [
        {
          "output_type": "stream",
          "name": "stdout",
          "text": [
            "fatal: destination path 'yemoonsaBigdata' already exists and is not an empty directory.\n"
          ]
        }
      ],
      "source": [
        "!git clone https://github.com/AnalyticsKnight/yemoonsaBigdata"
      ]
    },
    {
      "cell_type": "code",
      "source": [
        "import pandas as pd\n",
        "import numpy as np"
      ],
      "metadata": {
        "id": "RPQN38TBwMHT"
      },
      "execution_count": 32,
      "outputs": []
    },
    {
      "cell_type": "code",
      "source": [
        "X_test = pd.read_csv('./yemoonsaBigdata/datasets/Part2/census_X_test.csv')\n",
        "X_train = pd.read_csv('./yemoonsaBigdata/datasets/Part2/census_X_train.csv')\n",
        "y_train = pd.read_csv('./yemoonsaBigdata/datasets/Part2/census_y_train.csv')"
      ],
      "metadata": {
        "id": "5O7CeKh7wX0_"
      },
      "execution_count": 33,
      "outputs": []
    },
    {
      "cell_type": "code",
      "source": [
        "# 데이터 전처리\n",
        "print(X_train.info())"
      ],
      "metadata": {
        "colab": {
          "base_uri": "https://localhost:8080/"
        },
        "id": "XbtUxLiRwhXk",
        "outputId": "6c0733b6-68e4-4019-a80d-465acf80cd58"
      },
      "execution_count": 34,
      "outputs": [
        {
          "output_type": "stream",
          "name": "stdout",
          "text": [
            "<class 'pandas.core.frame.DataFrame'>\n",
            "RangeIndex: 30162 entries, 0 to 30161\n",
            "Data columns (total 12 columns):\n",
            " #   Column          Non-Null Count  Dtype \n",
            "---  ------          --------------  ----- \n",
            " 0   age             30162 non-null  int64 \n",
            " 1   workclass       30162 non-null  object\n",
            " 2   education_num   30162 non-null  int64 \n",
            " 3   marital_status  30162 non-null  object\n",
            " 4   occupation      30162 non-null  object\n",
            " 5   relationship    30162 non-null  object\n",
            " 6   race            30162 non-null  object\n",
            " 7   sex             30162 non-null  object\n",
            " 8   capital_gain    30162 non-null  int64 \n",
            " 9   capital_loss    30162 non-null  int64 \n",
            " 10  hours_per_week  30162 non-null  int64 \n",
            " 11  native_country  30162 non-null  object\n",
            "dtypes: int64(5), object(7)\n",
            "memory usage: 2.8+ MB\n",
            "None\n"
          ]
        }
      ]
    },
    {
      "cell_type": "code",
      "source": [
        "print(X_train.describe())"
      ],
      "metadata": {
        "colab": {
          "base_uri": "https://localhost:8080/"
        },
        "id": "Cdkur6xXwuwL",
        "outputId": "80c344ce-8fa1-4ae2-bcc5-9ff10ed4d679"
      },
      "execution_count": 35,
      "outputs": [
        {
          "output_type": "stream",
          "name": "stdout",
          "text": [
            "                age  education_num  capital_gain  capital_loss  hours_per_week\n",
            "count  30162.000000   30162.000000  30162.000000  30162.000000    30162.000000\n",
            "mean      38.437902      10.121312   1092.007858     88.372489       40.931238\n",
            "std       13.134665       2.549995   7406.346497    404.298370       11.979984\n",
            "min       17.000000       1.000000      0.000000      0.000000        1.000000\n",
            "25%       28.000000       9.000000      0.000000      0.000000       40.000000\n",
            "50%       37.000000      10.000000      0.000000      0.000000       40.000000\n",
            "75%       47.000000      13.000000      0.000000      0.000000       45.000000\n",
            "max       90.000000      16.000000  99999.000000   4356.000000       99.000000\n"
          ]
        }
      ]
    },
    {
      "cell_type": "code",
      "source": [
        "print(X_train['capital_gain'].quantile([q / 20 for q in range(15, 21)]))"
      ],
      "metadata": {
        "colab": {
          "base_uri": "https://localhost:8080/"
        },
        "id": "s8BhhqCQw7As",
        "outputId": "147f6706-ce51-4e15-a53e-18e08e1bff2d"
      },
      "execution_count": 36,
      "outputs": [
        {
          "output_type": "stream",
          "name": "stdout",
          "text": [
            "0.75        0.0\n",
            "0.80        0.0\n",
            "0.85        0.0\n",
            "0.90        0.0\n",
            "0.95     5013.0\n",
            "1.00    99999.0\n",
            "Name: capital_gain, dtype: float64\n"
          ]
        }
      ]
    },
    {
      "cell_type": "code",
      "source": [
        "print(X_train['capital_loss'].quantile([q / 20 for q in range(15, 21)]))"
      ],
      "metadata": {
        "colab": {
          "base_uri": "https://localhost:8080/"
        },
        "id": "DQfswubhxR76",
        "outputId": "a81c08c9-ed5d-4637-b744-c57ddd430700"
      },
      "execution_count": 37,
      "outputs": [
        {
          "output_type": "stream",
          "name": "stdout",
          "text": [
            "0.75       0.0\n",
            "0.80       0.0\n",
            "0.85       0.0\n",
            "0.90       0.0\n",
            "0.95       0.0\n",
            "1.00    4356.0\n",
            "Name: capital_loss, dtype: float64\n"
          ]
        }
      ]
    },
    {
      "cell_type": "code",
      "source": [
        "X_train['capital_gain_yn'] = np.where(X_train['capital_gain'] > 0, 1, 0)\n",
        "X_train['capital_loss_yn'] = np.where(X_train['capital_loss'] > 0, 1, 0)\n",
        "\n",
        "X_test['capital_gain_yn'] = np.where(X_test['capital_gain'] > 0, 1, 0)\n",
        "X_test['capital_loss_yn'] = np.where(X_test['capital_loss'] > 0, 1, 0)"
      ],
      "metadata": {
        "id": "DsaKUEohxbwc"
      },
      "execution_count": 38,
      "outputs": []
    },
    {
      "cell_type": "code",
      "source": [
        "COL_DEL = []\n",
        "COL_NUM = ['age', 'education_num', 'capital_gain', 'capital_loss', 'hours_per_week']\n",
        "COL_CAT = ['workclass', 'marital_status', 'occupation', 'relationship', 'race', 'sex', 'native_country', 'capital_gain_yn', 'capital_loss_yn']\n",
        "COL_Y = ['target']\n",
        "\n",
        "X_train = X_train.drop(COL_DEL, axis = 1)\n",
        "X_test = X_test.drop(COL_DEL, axis = 1)"
      ],
      "metadata": {
        "id": "H6xIBZlUz-gY"
      },
      "execution_count": 39,
      "outputs": []
    },
    {
      "cell_type": "code",
      "source": [
        "train_df = pd.concat([X_train, y_train], axis = 1)\n",
        "\n",
        "for _col in COL_NUM:\n",
        "  print('-' * 80)\n",
        "  print(_col)\n",
        "  print(train_df.groupby(COL_Y)[_col].describe(), end = '\\n\\n')"
      ],
      "metadata": {
        "colab": {
          "base_uri": "https://localhost:8080/"
        },
        "id": "zV0__u850pil",
        "outputId": "8d7191ba-5a1d-4231-af06-da7143fdf598"
      },
      "execution_count": 40,
      "outputs": [
        {
          "output_type": "stream",
          "name": "stdout",
          "text": [
            "--------------------------------------------------------------------------------\n",
            "age\n",
            "          count      mean        std   min   25%   50%   75%   max\n",
            "target                                                            \n",
            "0       22654.0  36.60806  13.464631  17.0  26.0  34.0  45.0  90.0\n",
            "1        7508.0  43.95911  10.269633  19.0  36.0  43.0  51.0  90.0\n",
            "\n",
            "--------------------------------------------------------------------------------\n",
            "education_num\n",
            "          count       mean       std  min   25%   50%   75%   max\n",
            "target                                                           \n",
            "0       22654.0   9.629116  2.413596  1.0   9.0   9.0  10.0  16.0\n",
            "1        7508.0  11.606420  2.368423  2.0  10.0  12.0  13.0  16.0\n",
            "\n",
            "--------------------------------------------------------------------------------\n",
            "capital_gain\n",
            "          count         mean           std  min  25%  50%  75%      max\n",
            "target                                                                 \n",
            "0       22654.0   148.893838    936.392280  0.0  0.0  0.0  0.0  41310.0\n",
            "1        7508.0  3937.679808  14386.060019  0.0  0.0  0.0  0.0  99999.0\n",
            "\n",
            "--------------------------------------------------------------------------------\n",
            "capital_loss\n",
            "          count        mean         std  min  25%  50%  75%     max\n",
            "target                                                             \n",
            "0       22654.0   53.448000  310.270263  0.0  0.0  0.0  0.0  4356.0\n",
            "1        7508.0  193.750666  592.825590  0.0  0.0  0.0  0.0  3683.0\n",
            "\n",
            "--------------------------------------------------------------------------------\n",
            "hours_per_week\n",
            "          count       mean        std  min   25%   50%   75%   max\n",
            "target                                                            \n",
            "0       22654.0  39.348592  11.950774  1.0  38.0  40.0  40.0  99.0\n",
            "1        7508.0  45.706580  10.736987  1.0  40.0  40.0  50.0  99.0\n",
            "\n"
          ]
        }
      ]
    },
    {
      "cell_type": "code",
      "source": [
        "for _col in COL_CAT:\n",
        "  print(train_df.groupby(_col, as_index = False)[COL_Y].mean().sort_values(by = COL_Y, ascending = False), end = '\\n\\n')"
      ],
      "metadata": {
        "colab": {
          "base_uri": "https://localhost:8080/"
        },
        "id": "i_G4LVrV0-M0",
        "outputId": "832ed2ad-2c6d-4cbb-c8fa-242cb7252e79"
      },
      "execution_count": 41,
      "outputs": [
        {
          "output_type": "stream",
          "name": "stdout",
          "text": [
            "          workclass    target\n",
            "3      Self-emp-inc  0.558659\n",
            "0       Federal-gov  0.387063\n",
            "1         Local-gov  0.294630\n",
            "4  Self-emp-not-inc  0.285714\n",
            "5         State-gov  0.268960\n",
            "2           Private  0.218792\n",
            "6       Without-pay  0.000000\n",
            "\n",
            "          marital_status    target\n",
            "1      Married-AF-spouse  0.476190\n",
            "2     Married-civ-spouse  0.454959\n",
            "0               Divorced  0.107262\n",
            "6                Widowed  0.096735\n",
            "3  Married-spouse-absent  0.083784\n",
            "5              Separated  0.070288\n",
            "4          Never-married  0.048324\n",
            "\n",
            "           occupation    target\n",
            "3     Exec-managerial  0.485220\n",
            "9      Prof-specialty  0.448489\n",
            "10    Protective-serv  0.326087\n",
            "12       Tech-support  0.304825\n",
            "11              Sales  0.270647\n",
            "2        Craft-repair  0.225310\n",
            "13   Transport-moving  0.202926\n",
            "0        Adm-clerical  0.133835\n",
            "6   Machine-op-inspct  0.124619\n",
            "4     Farming-fishing  0.116279\n",
            "1        Armed-Forces  0.111111\n",
            "5   Handlers-cleaners  0.061481\n",
            "7       Other-service  0.041096\n",
            "8     Priv-house-serv  0.006993\n",
            "\n",
            "     relationship    target\n",
            "5            Wife  0.493599\n",
            "0         Husband  0.455669\n",
            "1   Not-in-family  0.106523\n",
            "4       Unmarried  0.066314\n",
            "2  Other-relative  0.039370\n",
            "3       Own-child  0.014330\n",
            "\n",
            "                 race    target\n",
            "1  Asian-Pac-Islander  0.277095\n",
            "4               White  0.263718\n",
            "2               Black  0.129925\n",
            "0  Amer-Indian-Eskimo  0.118881\n",
            "3               Other  0.090909\n",
            "\n",
            "      sex    target\n",
            "1    Male  0.313837\n",
            "0  Female  0.113678\n",
            "\n",
            "                native_country    target\n",
            "35                      Taiwan  0.452381\n",
            "9                       France  0.444444\n",
            "19                        Iran  0.428571\n",
            "18                       India  0.400000\n",
            "23                       Japan  0.389831\n",
            "0                     Cambodia  0.388889\n",
            "40                  Yugoslavia  0.375000\n",
            "21                       Italy  0.352941\n",
            "8                      England  0.348837\n",
            "10                     Germany  0.343750\n",
            "1                       Canada  0.336449\n",
            "29                 Philippines  0.319149\n",
            "16                        Hong  0.315789\n",
            "2                        China  0.294118\n",
            "11                      Greece  0.275862\n",
            "4                         Cuba  0.271739\n",
            "38               United-States  0.254327\n",
            "17                     Hungary  0.230769\n",
            "20                     Ireland  0.208333\n",
            "34                       South  0.197183\n",
            "30                      Poland  0.196429\n",
            "33                    Scotland  0.181818\n",
            "36                    Thailand  0.176471\n",
            "6                      Ecuador  0.148148\n",
            "22                     Jamaica  0.125000\n",
            "31                    Portugal  0.117647\n",
            "24                        Laos  0.117647\n",
            "37             Trinadad&Tobago  0.111111\n",
            "32                 Puerto-Rico  0.110092\n",
            "13                       Haiti  0.095238\n",
            "7                  El-Salvador  0.090000\n",
            "15                    Honduras  0.083333\n",
            "39                     Vietnam  0.078125\n",
            "28                        Peru  0.066667\n",
            "26                   Nicaragua  0.060606\n",
            "25                      Mexico  0.054098\n",
            "12                   Guatemala  0.047619\n",
            "3                     Columbia  0.035714\n",
            "5           Dominican-Republic  0.029851\n",
            "27  Outlying-US(Guam-USVI-etc)  0.000000\n",
            "14          Holand-Netherlands  0.000000\n",
            "\n",
            "   capital_gain_yn    target\n",
            "1                1  0.628448\n",
            "0                0  0.214053\n",
            "\n",
            "   capital_loss_yn    target\n",
            "1                1  0.516468\n",
            "0                0  0.235636\n",
            "\n"
          ]
        }
      ]
    },
    {
      "cell_type": "code",
      "source": [
        "from sklearn.preprocessing import LabelEncoder\n",
        "\n",
        "X = pd.concat([X_train, X_test])\n",
        "\n",
        "for _col in COL_CAT:\n",
        "  le = LabelEncoder()\n",
        "  le.fit(X_train[_col])\n",
        "\n",
        "  X_train[_col] = le.transform(X_train[_col])\n",
        "  X_test[_col] = le.transform(X_test[_col])"
      ],
      "metadata": {
        "id": "OaEjraxfAlyW"
      },
      "execution_count": 42,
      "outputs": []
    },
    {
      "cell_type": "code",
      "source": [
        "# 데이터 모형 구축\n",
        "from sklearn.model_selection import train_test_split\n",
        "\n",
        "X_tr, X_val, y_tr, y_val = train_test_split(X_train, y_train, test_size = 0.3, stratify = y_train)"
      ],
      "metadata": {
        "id": "YrHy1YeMBki_"
      },
      "execution_count": 43,
      "outputs": []
    },
    {
      "cell_type": "code",
      "source": [
        "from sklearn.preprocessing import StandardScaler\n",
        "\n",
        "scaler = StandardScaler()\n",
        "\n",
        "X_tr[COL_NUM] = scaler.fit_transform(X_tr[COL_NUM])\n",
        "X_val[COL_NUM] = scaler.transform(X_val[COL_NUM])\n",
        "X_test[COL_NUM] = scaler.transform(X_test[COL_NUM])"
      ],
      "metadata": {
        "id": "_lCvKIiVB1Wu"
      },
      "execution_count": 44,
      "outputs": []
    },
    {
      "cell_type": "code",
      "source": [
        "from sklearn.ensemble import RandomForestClassifier\n",
        "\n",
        "model_rf = RandomForestClassifier()\n",
        "model_rf.fit(X_tr, y_tr.values.ravel())"
      ],
      "metadata": {
        "colab": {
          "base_uri": "https://localhost:8080/"
        },
        "id": "GeoICjI5CSpa",
        "outputId": "80a78a55-5e08-4c12-d101-b7b50de4ecad"
      },
      "execution_count": 45,
      "outputs": [
        {
          "output_type": "execute_result",
          "data": {
            "text/plain": [
              "RandomForestClassifier()"
            ]
          },
          "metadata": {},
          "execution_count": 45
        }
      ]
    },
    {
      "cell_type": "code",
      "source": [
        "from xgboost import XGBClassifier\n",
        "\n",
        "model_xgb1 = XGBClassifier()\n",
        "model_xgb1.fit(X_tr, y_tr.values.ravel())"
      ],
      "metadata": {
        "colab": {
          "base_uri": "https://localhost:8080/"
        },
        "id": "ty7JA9FrCu-K",
        "outputId": "0acd58d5-be64-4167-978e-87874345bc32"
      },
      "execution_count": 46,
      "outputs": [
        {
          "output_type": "execute_result",
          "data": {
            "text/plain": [
              "XGBClassifier()"
            ]
          },
          "metadata": {},
          "execution_count": 46
        }
      ]
    },
    {
      "cell_type": "code",
      "source": [
        "model_xgb2 = XGBClassifier(n_estimators = 1000, learning_rate = 0.1, max_depth = 10)\n",
        "model_xgb2.fit(X_tr, y_tr.values.ravel(), early_stopping_rounds = 50, eval_metric = 'auc', eval_set = [(X_val, y_val)], verbose = 10)"
      ],
      "metadata": {
        "colab": {
          "base_uri": "https://localhost:8080/"
        },
        "id": "m9ZIui9GC9rH",
        "outputId": "aa63cbc0-c55f-45a4-c45e-97711c8f8e5f"
      },
      "execution_count": 47,
      "outputs": [
        {
          "output_type": "stream",
          "name": "stdout",
          "text": [
            "[0]\tvalidation_0-auc:0.908772\n",
            "Will train until validation_0-auc hasn't improved in 50 rounds.\n"
          ]
        },
        {
          "output_type": "stream",
          "name": "stderr",
          "text": [
            "/usr/local/lib/python3.7/dist-packages/sklearn/preprocessing/_label.py:133: DataConversionWarning: A column-vector y was passed when a 1d array was expected. Please change the shape of y to (n_samples, ), for example using ravel().\n",
            "  y = column_or_1d(y, warn=True)\n"
          ]
        },
        {
          "output_type": "stream",
          "name": "stdout",
          "text": [
            "[10]\tvalidation_0-auc:0.916895\n",
            "[20]\tvalidation_0-auc:0.921547\n",
            "[30]\tvalidation_0-auc:0.924568\n",
            "[40]\tvalidation_0-auc:0.926005\n",
            "[50]\tvalidation_0-auc:0.927269\n",
            "[60]\tvalidation_0-auc:0.928357\n",
            "[70]\tvalidation_0-auc:0.928942\n",
            "[80]\tvalidation_0-auc:0.929241\n",
            "[90]\tvalidation_0-auc:0.929364\n",
            "[100]\tvalidation_0-auc:0.929477\n",
            "[110]\tvalidation_0-auc:0.9294\n",
            "[120]\tvalidation_0-auc:0.92939\n",
            "[130]\tvalidation_0-auc:0.929219\n",
            "[140]\tvalidation_0-auc:0.929085\n",
            "Stopping. Best iteration:\n",
            "[99]\tvalidation_0-auc:0.929504\n",
            "\n"
          ]
        },
        {
          "output_type": "execute_result",
          "data": {
            "text/plain": [
              "XGBClassifier(max_depth=10, n_estimators=1000)"
            ]
          },
          "metadata": {},
          "execution_count": 47
        }
      ]
    },
    {
      "cell_type": "code",
      "source": [
        "from sklearn.metrics import roc_auc_score\n",
        "\n",
        "y_pred_rf = model_rf.predict_proba(X_val)\n",
        "y_pred_xgb1 = model_xgb1.predict_proba(X_val)\n",
        "\n",
        "score_rf = roc_auc_score(y_val, y_pred_rf[:, 1])\n",
        "score_xgb1 = roc_auc_score(y_val, y_pred_xgb1[:, 1])\n",
        "\n",
        "print(score_rf)\n",
        "print(score_xgb1)"
      ],
      "metadata": {
        "id": "-_6OfCmLD6s0",
        "colab": {
          "base_uri": "https://localhost:8080/"
        },
        "outputId": "dc6d525c-ee31-41eb-bc1b-a5e3bb67a40e"
      },
      "execution_count": 48,
      "outputs": [
        {
          "output_type": "stream",
          "name": "stdout",
          "text": [
            "0.8980466842152438\n",
            "0.9221767400255729\n"
          ]
        }
      ]
    },
    {
      "cell_type": "code",
      "source": [
        "pd.DataFrame({'feature' : X_tr.columns, 'fl_rl' : model_rf.feature_importances_, 'fl_xgb' : model_xgb1.feature_importances_})"
      ],
      "metadata": {
        "colab": {
          "base_uri": "https://localhost:8080/",
          "height": 488
        },
        "id": "s5GOJgjgb_9w",
        "outputId": "58b231d1-9fe6-4eb0-af5c-2fb0970b1b91"
      },
      "execution_count": 50,
      "outputs": [
        {
          "output_type": "execute_result",
          "data": {
            "text/plain": [
              "            feature     fl_rl    fl_xgb\n",
              "0               age  0.222586  0.063144\n",
              "1         workclass  0.049710  0.019524\n",
              "2     education_num  0.139098  0.151050\n",
              "3    marital_status  0.073980  0.140444\n",
              "4        occupation  0.089728  0.044139\n",
              "5      relationship  0.102679  0.317805\n",
              "6              race  0.016922  0.006476\n",
              "7               sex  0.013975  0.025699\n",
              "8      capital_gain  0.102688  0.120441\n",
              "9      capital_loss  0.031285  0.053012\n",
              "10   hours_per_week  0.111084  0.051936\n",
              "11   native_country  0.019306  0.006329\n",
              "12  capital_gain_yn  0.018896  0.000000\n",
              "13  capital_loss_yn  0.008063  0.000000"
            ],
            "text/html": [
              "\n",
              "  <div id=\"df-9b250ce1-5c6a-4252-951d-06ea60b00b51\">\n",
              "    <div class=\"colab-df-container\">\n",
              "      <div>\n",
              "<style scoped>\n",
              "    .dataframe tbody tr th:only-of-type {\n",
              "        vertical-align: middle;\n",
              "    }\n",
              "\n",
              "    .dataframe tbody tr th {\n",
              "        vertical-align: top;\n",
              "    }\n",
              "\n",
              "    .dataframe thead th {\n",
              "        text-align: right;\n",
              "    }\n",
              "</style>\n",
              "<table border=\"1\" class=\"dataframe\">\n",
              "  <thead>\n",
              "    <tr style=\"text-align: right;\">\n",
              "      <th></th>\n",
              "      <th>feature</th>\n",
              "      <th>fl_rl</th>\n",
              "      <th>fl_xgb</th>\n",
              "    </tr>\n",
              "  </thead>\n",
              "  <tbody>\n",
              "    <tr>\n",
              "      <th>0</th>\n",
              "      <td>age</td>\n",
              "      <td>0.222586</td>\n",
              "      <td>0.063144</td>\n",
              "    </tr>\n",
              "    <tr>\n",
              "      <th>1</th>\n",
              "      <td>workclass</td>\n",
              "      <td>0.049710</td>\n",
              "      <td>0.019524</td>\n",
              "    </tr>\n",
              "    <tr>\n",
              "      <th>2</th>\n",
              "      <td>education_num</td>\n",
              "      <td>0.139098</td>\n",
              "      <td>0.151050</td>\n",
              "    </tr>\n",
              "    <tr>\n",
              "      <th>3</th>\n",
              "      <td>marital_status</td>\n",
              "      <td>0.073980</td>\n",
              "      <td>0.140444</td>\n",
              "    </tr>\n",
              "    <tr>\n",
              "      <th>4</th>\n",
              "      <td>occupation</td>\n",
              "      <td>0.089728</td>\n",
              "      <td>0.044139</td>\n",
              "    </tr>\n",
              "    <tr>\n",
              "      <th>5</th>\n",
              "      <td>relationship</td>\n",
              "      <td>0.102679</td>\n",
              "      <td>0.317805</td>\n",
              "    </tr>\n",
              "    <tr>\n",
              "      <th>6</th>\n",
              "      <td>race</td>\n",
              "      <td>0.016922</td>\n",
              "      <td>0.006476</td>\n",
              "    </tr>\n",
              "    <tr>\n",
              "      <th>7</th>\n",
              "      <td>sex</td>\n",
              "      <td>0.013975</td>\n",
              "      <td>0.025699</td>\n",
              "    </tr>\n",
              "    <tr>\n",
              "      <th>8</th>\n",
              "      <td>capital_gain</td>\n",
              "      <td>0.102688</td>\n",
              "      <td>0.120441</td>\n",
              "    </tr>\n",
              "    <tr>\n",
              "      <th>9</th>\n",
              "      <td>capital_loss</td>\n",
              "      <td>0.031285</td>\n",
              "      <td>0.053012</td>\n",
              "    </tr>\n",
              "    <tr>\n",
              "      <th>10</th>\n",
              "      <td>hours_per_week</td>\n",
              "      <td>0.111084</td>\n",
              "      <td>0.051936</td>\n",
              "    </tr>\n",
              "    <tr>\n",
              "      <th>11</th>\n",
              "      <td>native_country</td>\n",
              "      <td>0.019306</td>\n",
              "      <td>0.006329</td>\n",
              "    </tr>\n",
              "    <tr>\n",
              "      <th>12</th>\n",
              "      <td>capital_gain_yn</td>\n",
              "      <td>0.018896</td>\n",
              "      <td>0.000000</td>\n",
              "    </tr>\n",
              "    <tr>\n",
              "      <th>13</th>\n",
              "      <td>capital_loss_yn</td>\n",
              "      <td>0.008063</td>\n",
              "      <td>0.000000</td>\n",
              "    </tr>\n",
              "  </tbody>\n",
              "</table>\n",
              "</div>\n",
              "      <button class=\"colab-df-convert\" onclick=\"convertToInteractive('df-9b250ce1-5c6a-4252-951d-06ea60b00b51')\"\n",
              "              title=\"Convert this dataframe to an interactive table.\"\n",
              "              style=\"display:none;\">\n",
              "        \n",
              "  <svg xmlns=\"http://www.w3.org/2000/svg\" height=\"24px\"viewBox=\"0 0 24 24\"\n",
              "       width=\"24px\">\n",
              "    <path d=\"M0 0h24v24H0V0z\" fill=\"none\"/>\n",
              "    <path d=\"M18.56 5.44l.94 2.06.94-2.06 2.06-.94-2.06-.94-.94-2.06-.94 2.06-2.06.94zm-11 1L8.5 8.5l.94-2.06 2.06-.94-2.06-.94L8.5 2.5l-.94 2.06-2.06.94zm10 10l.94 2.06.94-2.06 2.06-.94-2.06-.94-.94-2.06-.94 2.06-2.06.94z\"/><path d=\"M17.41 7.96l-1.37-1.37c-.4-.4-.92-.59-1.43-.59-.52 0-1.04.2-1.43.59L10.3 9.45l-7.72 7.72c-.78.78-.78 2.05 0 2.83L4 21.41c.39.39.9.59 1.41.59.51 0 1.02-.2 1.41-.59l7.78-7.78 2.81-2.81c.8-.78.8-2.07 0-2.86zM5.41 20L4 18.59l7.72-7.72 1.47 1.35L5.41 20z\"/>\n",
              "  </svg>\n",
              "      </button>\n",
              "      \n",
              "  <style>\n",
              "    .colab-df-container {\n",
              "      display:flex;\n",
              "      flex-wrap:wrap;\n",
              "      gap: 12px;\n",
              "    }\n",
              "\n",
              "    .colab-df-convert {\n",
              "      background-color: #E8F0FE;\n",
              "      border: none;\n",
              "      border-radius: 50%;\n",
              "      cursor: pointer;\n",
              "      display: none;\n",
              "      fill: #1967D2;\n",
              "      height: 32px;\n",
              "      padding: 0 0 0 0;\n",
              "      width: 32px;\n",
              "    }\n",
              "\n",
              "    .colab-df-convert:hover {\n",
              "      background-color: #E2EBFA;\n",
              "      box-shadow: 0px 1px 2px rgba(60, 64, 67, 0.3), 0px 1px 3px 1px rgba(60, 64, 67, 0.15);\n",
              "      fill: #174EA6;\n",
              "    }\n",
              "\n",
              "    [theme=dark] .colab-df-convert {\n",
              "      background-color: #3B4455;\n",
              "      fill: #D2E3FC;\n",
              "    }\n",
              "\n",
              "    [theme=dark] .colab-df-convert:hover {\n",
              "      background-color: #434B5C;\n",
              "      box-shadow: 0px 1px 3px 1px rgba(0, 0, 0, 0.15);\n",
              "      filter: drop-shadow(0px 1px 2px rgba(0, 0, 0, 0.3));\n",
              "      fill: #FFFFFF;\n",
              "    }\n",
              "  </style>\n",
              "\n",
              "      <script>\n",
              "        const buttonEl =\n",
              "          document.querySelector('#df-9b250ce1-5c6a-4252-951d-06ea60b00b51 button.colab-df-convert');\n",
              "        buttonEl.style.display =\n",
              "          google.colab.kernel.accessAllowed ? 'block' : 'none';\n",
              "\n",
              "        async function convertToInteractive(key) {\n",
              "          const element = document.querySelector('#df-9b250ce1-5c6a-4252-951d-06ea60b00b51');\n",
              "          const dataTable =\n",
              "            await google.colab.kernel.invokeFunction('convertToInteractive',\n",
              "                                                     [key], {});\n",
              "          if (!dataTable) return;\n",
              "\n",
              "          const docLinkHtml = 'Like what you see? Visit the ' +\n",
              "            '<a target=\"_blank\" href=https://colab.research.google.com/notebooks/data_table.ipynb>data table notebook</a>'\n",
              "            + ' to learn more about interactive tables.';\n",
              "          element.innerHTML = '';\n",
              "          dataTable['output_type'] = 'display_data';\n",
              "          await google.colab.output.renderOutput(dataTable, element);\n",
              "          const docLink = document.createElement('div');\n",
              "          docLink.innerHTML = docLinkHtml;\n",
              "          element.appendChild(docLink);\n",
              "        }\n",
              "      </script>\n",
              "    </div>\n",
              "  </div>\n",
              "  "
            ]
          },
          "metadata": {},
          "execution_count": 50
        }
      ]
    },
    {
      "cell_type": "code",
      "source": [
        "COL_DEL = ['capital_gain_yn', 'capital_loss_yn']\n",
        "\n",
        "X_tr = X_tr.drop(COL_DEL, axis = 1)\n",
        "X_val = X_val.drop(COL_DEL, axis = 1)\n",
        "X_test = X_test.drop(COL_DEL, axis = 1)"
      ],
      "metadata": {
        "id": "SiVwC88LcSHg"
      },
      "execution_count": 51,
      "outputs": []
    },
    {
      "cell_type": "code",
      "source": [
        "from sklearn.model_selection import GridSearchCV\n",
        "\n",
        "grid_params = {\n",
        "    'n_estimators' : [50, 100, 200],\n",
        "    'max_depth' : [5, 10, 15],\n",
        "    'min_samples_split' : [2, 5, 10],\n",
        "    'min_samples_leaf' : [1, 2, 4]\n",
        "}\n",
        "\n",
        "rf_cv = GridSearchCV(estimator = model_rf, param_grid = grid_params, cv = 5)\n",
        "rf_cv.fit(X_train, y_train.values.ravel())"
      ],
      "metadata": {
        "colab": {
          "base_uri": "https://localhost:8080/"
        },
        "id": "EQkCRBswcjx9",
        "outputId": "f5435ead-4752-415a-dbfd-6ca57bac7c08"
      },
      "execution_count": 54,
      "outputs": [
        {
          "output_type": "execute_result",
          "data": {
            "text/plain": [
              "GridSearchCV(cv=5, estimator=RandomForestClassifier(),\n",
              "             param_grid={'max_depth': [5, 10, 15],\n",
              "                         'min_samples_leaf': [1, 2, 4],\n",
              "                         'min_samples_split': [2, 5, 10],\n",
              "                         'n_estimators': [50, 100, 200]})"
            ]
          },
          "metadata": {},
          "execution_count": 54
        }
      ]
    },
    {
      "cell_type": "code",
      "source": [
        "print(pd.DataFrame(rf_cv.cv_results_).head())"
      ],
      "metadata": {
        "colab": {
          "base_uri": "https://localhost:8080/"
        },
        "id": "s-jW4TbjdN5S",
        "outputId": "f3f9c036-e7c2-4f87-88a4-92cfd5498048"
      },
      "execution_count": 55,
      "outputs": [
        {
          "output_type": "stream",
          "name": "stdout",
          "text": [
            "   mean_fit_time  std_fit_time  mean_score_time  std_score_time  \\\n",
            "0       0.424505      0.143682         0.025466        0.000401   \n",
            "1       0.719242      0.020618         0.049832        0.001407   \n",
            "2       1.532039      0.081849         0.097040        0.004568   \n",
            "3       0.372172      0.007751         0.026578        0.001259   \n",
            "4       0.712047      0.012552         0.051001        0.002187   \n",
            "\n",
            "  param_max_depth param_min_samples_leaf param_min_samples_split  \\\n",
            "0               5                      1                       2   \n",
            "1               5                      1                       2   \n",
            "2               5                      1                       2   \n",
            "3               5                      1                       5   \n",
            "4               5                      1                       5   \n",
            "\n",
            "  param_n_estimators                                             params  \\\n",
            "0                 50  {'max_depth': 5, 'min_samples_leaf': 1, 'min_s...   \n",
            "1                100  {'max_depth': 5, 'min_samples_leaf': 1, 'min_s...   \n",
            "2                200  {'max_depth': 5, 'min_samples_leaf': 1, 'min_s...   \n",
            "3                 50  {'max_depth': 5, 'min_samples_leaf': 1, 'min_s...   \n",
            "4                100  {'max_depth': 5, 'min_samples_leaf': 1, 'min_s...   \n",
            "\n",
            "   split0_test_score  split1_test_score  split2_test_score  split3_test_score  \\\n",
            "0           0.839218           0.842201           0.850464           0.848641   \n",
            "1           0.838223           0.843527           0.848972           0.847314   \n",
            "2           0.838057           0.844522           0.850464           0.847480   \n",
            "3           0.840709           0.845682           0.850464           0.848972   \n",
            "4           0.837394           0.844688           0.849635           0.847646   \n",
            "\n",
            "   split4_test_score  mean_test_score  std_test_score  rank_test_score  \n",
            "0           0.849635         0.846032        0.004484               63  \n",
            "1           0.849304         0.845468        0.004163               77  \n",
            "2           0.848309         0.845766        0.004300               69  \n",
            "3           0.848641         0.846894        0.003459               56  \n",
            "4           0.848806         0.845634        0.004448               73  \n"
          ]
        }
      ]
    },
    {
      "cell_type": "code",
      "source": [
        "print(rf_cv.best_params_)"
      ],
      "metadata": {
        "colab": {
          "base_uri": "https://localhost:8080/"
        },
        "id": "sIHSlkBqhVVN",
        "outputId": "311d8a1b-d81f-45cd-8c68-c15e1b5a3e7c"
      },
      "execution_count": 56,
      "outputs": [
        {
          "output_type": "stream",
          "name": "stdout",
          "text": [
            "{'max_depth': 15, 'min_samples_leaf': 1, 'min_samples_split': 5, 'n_estimators': 100}\n"
          ]
        }
      ]
    },
    {
      "cell_type": "code",
      "source": [
        "model_rf2 = RandomForestClassifier(n_estimators = 100,\n",
        "                                   max_depth = 15,\n",
        "                                   min_samples_leaf = 1,\n",
        "                                   min_samples_split = 5)\n",
        "model_rf2.fit(X_tr, y_tr.values.ravel())\n",
        "\n",
        "y_pred_rf2 = model_rf2.predict_proba(X_val)\n",
        "score_rf2 = roc_auc_score(y_val, y_pred_rf2[:, 1])\n",
        "print(score_rf2)"
      ],
      "metadata": {
        "colab": {
          "base_uri": "https://localhost:8080/"
        },
        "id": "mnq4ICTnha_-",
        "outputId": "8af6c9f4-2aa7-4298-f419-57990755bf2f"
      },
      "execution_count": 57,
      "outputs": [
        {
          "output_type": "stream",
          "name": "stdout",
          "text": [
            "0.9219956118975277\n"
          ]
        }
      ]
    },
    {
      "cell_type": "code",
      "source": [
        "grid_params = {'max_depth' : [3, 5, 7, 10],\n",
        "               'min_child_weight' : [1, 2],\n",
        "               'colsample_bytree' : [0.6, 0.8],\n",
        "               'subsample' : [0.6, 0.8]}\n",
        "\n",
        "xgb_cv = GridSearchCV(estimator = model_xgb1, param_grid = grid_params, cv = 5)\n",
        "xgb_cv.fit(X_tr, y_tr.values.ravel())"
      ],
      "metadata": {
        "colab": {
          "base_uri": "https://localhost:8080/"
        },
        "id": "yAOB9cFGiGSl",
        "outputId": "b6262143-d012-4e7e-c5bd-26e586171c31"
      },
      "execution_count": 58,
      "outputs": [
        {
          "output_type": "execute_result",
          "data": {
            "text/plain": [
              "GridSearchCV(cv=5, estimator=XGBClassifier(),\n",
              "             param_grid={'colsample_bytree': [0.6, 0.8],\n",
              "                         'max_depth': [3, 5, 7, 10], 'min_child_weight': [1, 2],\n",
              "                         'subsample': [0.6, 0.8]})"
            ]
          },
          "metadata": {},
          "execution_count": 58
        }
      ]
    },
    {
      "cell_type": "code",
      "source": [
        "print(xgb_cv.best_params_)"
      ],
      "metadata": {
        "colab": {
          "base_uri": "https://localhost:8080/"
        },
        "id": "VsFyhoj2ilSb",
        "outputId": "083a23d1-05eb-4582-9832-0e5a5ab89869"
      },
      "execution_count": 59,
      "outputs": [
        {
          "output_type": "stream",
          "name": "stdout",
          "text": [
            "{'colsample_bytree': 0.8, 'max_depth': 5, 'min_child_weight': 1, 'subsample': 0.8}\n"
          ]
        }
      ]
    },
    {
      "cell_type": "code",
      "source": [
        "params = {'colsample_bytree' : 0.8,\n",
        "          'max_depth' : 5,\n",
        "          'min_child_weight' : 1,\n",
        "          'subsample' : 0.8}\n",
        "\n",
        "model_xgb3 = XGBClassifier(n_estimators = 1000, learning_rate = 0.05)\n",
        "model_xgb3.set_params(**params)\n",
        "\n",
        "model_xgb3.fit(X_tr, y_tr, early_stopping_rounds = 50, eval_metric = 'auc', eval_set = [(X_val, y_val)], verbose = 10)\n",
        "\n",
        "print(model_xgb3.best_score)"
      ],
      "metadata": {
        "colab": {
          "base_uri": "https://localhost:8080/"
        },
        "id": "byvKMmnPketi",
        "outputId": "84efbb6a-6992-41f0-94d5-6175f6c106f3"
      },
      "execution_count": 60,
      "outputs": [
        {
          "output_type": "stream",
          "name": "stdout",
          "text": [
            "[0]\tvalidation_0-auc:0.866735\n",
            "Will train until validation_0-auc hasn't improved in 50 rounds.\n",
            "[10]\tvalidation_0-auc:0.910083\n"
          ]
        },
        {
          "output_type": "stream",
          "name": "stderr",
          "text": [
            "/usr/local/lib/python3.7/dist-packages/sklearn/preprocessing/_label.py:98: DataConversionWarning: A column-vector y was passed when a 1d array was expected. Please change the shape of y to (n_samples, ), for example using ravel().\n",
            "  y = column_or_1d(y, warn=True)\n",
            "/usr/local/lib/python3.7/dist-packages/sklearn/preprocessing/_label.py:133: DataConversionWarning: A column-vector y was passed when a 1d array was expected. Please change the shape of y to (n_samples, ), for example using ravel().\n",
            "  y = column_or_1d(y, warn=True)\n"
          ]
        },
        {
          "output_type": "stream",
          "name": "stdout",
          "text": [
            "[20]\tvalidation_0-auc:0.91354\n",
            "[30]\tvalidation_0-auc:0.915277\n",
            "[40]\tvalidation_0-auc:0.916481\n",
            "[50]\tvalidation_0-auc:0.917935\n",
            "[60]\tvalidation_0-auc:0.918806\n",
            "[70]\tvalidation_0-auc:0.920446\n",
            "[80]\tvalidation_0-auc:0.9218\n",
            "[90]\tvalidation_0-auc:0.92328\n",
            "[100]\tvalidation_0-auc:0.923985\n",
            "[110]\tvalidation_0-auc:0.924984\n",
            "[120]\tvalidation_0-auc:0.925911\n",
            "[130]\tvalidation_0-auc:0.926695\n",
            "[140]\tvalidation_0-auc:0.92709\n",
            "[150]\tvalidation_0-auc:0.927698\n",
            "[160]\tvalidation_0-auc:0.927931\n",
            "[170]\tvalidation_0-auc:0.928305\n",
            "[180]\tvalidation_0-auc:0.928714\n",
            "[190]\tvalidation_0-auc:0.928956\n",
            "[200]\tvalidation_0-auc:0.929246\n",
            "[210]\tvalidation_0-auc:0.929392\n",
            "[220]\tvalidation_0-auc:0.929701\n",
            "[230]\tvalidation_0-auc:0.93001\n",
            "[240]\tvalidation_0-auc:0.930089\n",
            "[250]\tvalidation_0-auc:0.930273\n",
            "[260]\tvalidation_0-auc:0.930489\n",
            "[270]\tvalidation_0-auc:0.930622\n",
            "[280]\tvalidation_0-auc:0.930672\n",
            "[290]\tvalidation_0-auc:0.930664\n",
            "[300]\tvalidation_0-auc:0.930761\n",
            "[310]\tvalidation_0-auc:0.930869\n",
            "[320]\tvalidation_0-auc:0.930994\n",
            "[330]\tvalidation_0-auc:0.930953\n",
            "[340]\tvalidation_0-auc:0.931031\n",
            "[350]\tvalidation_0-auc:0.931014\n",
            "[360]\tvalidation_0-auc:0.930973\n",
            "[370]\tvalidation_0-auc:0.930967\n",
            "[380]\tvalidation_0-auc:0.930987\n",
            "[390]\tvalidation_0-auc:0.931068\n",
            "[400]\tvalidation_0-auc:0.931133\n",
            "[410]\tvalidation_0-auc:0.931189\n",
            "[420]\tvalidation_0-auc:0.931124\n",
            "[430]\tvalidation_0-auc:0.931101\n",
            "[440]\tvalidation_0-auc:0.931059\n",
            "[450]\tvalidation_0-auc:0.931049\n",
            "Stopping. Best iteration:\n",
            "[409]\tvalidation_0-auc:0.931197\n",
            "\n",
            "0.931197\n"
          ]
        }
      ]
    },
    {
      "cell_type": "code",
      "source": [
        "pred = model_xgb3.predict_proba(X_test)[:, 1]\n",
        "pd.DataFrame({'index' : X_test.index, 'target':pred}).to_csv('./Census income.csv', index = False)"
      ],
      "metadata": {
        "id": "bmJ24xf4lBxl"
      },
      "execution_count": 64,
      "outputs": []
    },
    {
      "cell_type": "code",
      "source": [],
      "metadata": {
        "id": "K7BHAYeRlTo4"
      },
      "execution_count": null,
      "outputs": []
    }
  ]
}